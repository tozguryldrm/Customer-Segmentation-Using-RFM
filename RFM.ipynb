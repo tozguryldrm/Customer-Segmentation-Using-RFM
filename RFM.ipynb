{
 "cells": [
  {
   "cell_type": "markdown",
   "id": "6d4d8aea-60da-49af-9f9c-c40dd68a3cb5",
   "metadata": {},
   "source": [
    "# Customer Segmentation using RFM"
   ]
  },
  {
   "cell_type": "markdown",
   "id": "c6df3f1e-7543-4cf9-affe-22f8d8cfd643",
   "metadata": {},
   "source": [
    "İş Problemi : \n",
    "\n",
    "Bir e-ticaret şirketi müşterilerini segmentlere ayırıp bu segmentlere göre pazarlama stratejileri belirlemek istemektedir.\n",
    "Şirket, ortak davranışlar sergileyen müşteri segmentleri özelinde pazarlama çalışmaları yapmanın gelir artışı\n",
    "sağlayacağını düşünmektedir.\n",
    "\n",
    "Örneğin şirket için çok kazançlı olan müşterileri elde tutmak için farklı kampanyalar, yeni müşteriler için farklı\n",
    "kampanyalar düzenlenmek istenmektedir.\n",
    "    "
   ]
  },
  {
   "cell_type": "markdown",
   "id": "1f9316bc-8080-4565-afa4-04e8c47ce33e",
   "metadata": {},
   "source": [
    "### Veri Seti Hikayesi:\n",
    "\n",
    "    Online Retail II https://archive.ics.uci.edu/ml/datasets/Online+Retail+II\n",
    "isimli veri seti İngiltere merkezli online bir satış\n",
    "mağazasının 01/12/2009 09/12/2011 tarihleri arasındaki satışlarını\n",
    "içermektedir.\n",
    "Bu şirketin ürün kataloğunda hediyelik eşyalar yer almaktadır.\n",
    "Şirketin müşterilerinin büyük çoğunluğu kurumsal müşterilerdir\n",
    "    "
   ]
  },
  {
   "cell_type": "markdown",
   "id": "51191025-493c-4465-be45-7a270f0332bc",
   "metadata": {},
   "source": [
    "### Veriyi Anlama (Data Understanding)"
   ]
  },
  {
   "cell_type": "code",
   "execution_count": 46,
   "id": "842b079a-b91a-4b4e-8d8f-e74d92083dd5",
   "metadata": {},
   "outputs": [],
   "source": [
    "def check_df(dataframe, head=5):\n",
    "    print(\"##################### Head #####################\")\n",
    "    print(dataframe.head(head))\n",
    "    print(\"##################### Shape #####################\")\n",
    "    print(dataframe.shape)\n",
    "    print(\"##################### Types #####################\")\n",
    "    print(dataframe.dtypes)\n",
    "    print(\"##################### NA #####################\")\n",
    "    print(dataframe.isnull().sum())\n",
    "    print(\"##################### Quantiles #####################\")\n",
    "    print(dataframe.quantile([0, 0.05, 0.50, 0.95, 0.99, 1]).T)\n",
    "import datetime as dt\n",
    "import pandas as pd\n",
    "pd.set_option('display.float_format', lambda x: '%.5f' % x)"
   ]
  },
  {
   "cell_type": "code",
   "execution_count": null,
   "id": "30e48a33-0eaf-4fb4-8b32-29d4f91ed1c3",
   "metadata": {},
   "outputs": [],
   "source": [
    "df_ = pd.read_excel(\"online_retail_II.xlsx\", sheet_name=\"Year 2010-2011\")\n",
    "df = df_.copy()"
   ]
  },
  {
   "cell_type": "code",
   "execution_count": 48,
   "id": "0c0db31b-9085-45a6-8e63-339ec4967a03",
   "metadata": {},
   "outputs": [],
   "source": [
    "desired_width = 300\n",
    "pd.set_option('display.width', desired_width)\n",
    "pd.pandas.set_option('display.max_columns', None)"
   ]
  },
  {
   "cell_type": "code",
   "execution_count": 45,
   "id": "0274822d-da20-4e7e-917b-a81204193457",
   "metadata": {},
   "outputs": [
    {
     "name": "stdout",
     "output_type": "stream",
     "text": [
      "##################### Head #####################\n",
      "  Invoice StockCode                          Description  Quantity         InvoiceDate   Price  Customer ID         Country\n",
      "0  536365    85123A   WHITE HANGING HEART T-LIGHT HOLDER         6 2010-12-01 08:26:00 2.55000  17850.00000  United Kingdom\n",
      "1  536365     71053                  WHITE METAL LANTERN         6 2010-12-01 08:26:00 3.39000  17850.00000  United Kingdom\n",
      "2  536365    84406B       CREAM CUPID HEARTS COAT HANGER         8 2010-12-01 08:26:00 2.75000  17850.00000  United Kingdom\n",
      "3  536365    84029G  KNITTED UNION FLAG HOT WATER BOTTLE         6 2010-12-01 08:26:00 3.39000  17850.00000  United Kingdom\n",
      "4  536365    84029E       RED WOOLLY HOTTIE WHITE HEART.         6 2010-12-01 08:26:00 3.39000  17850.00000  United Kingdom\n",
      "##################### Shape #####################\n",
      "(541910, 8)\n",
      "##################### Types #####################\n",
      "Invoice                object\n",
      "StockCode              object\n",
      "Description            object\n",
      "Quantity                int64\n",
      "InvoiceDate    datetime64[ns]\n",
      "Price                 float64\n",
      "Customer ID           float64\n",
      "Country                object\n",
      "dtype: object\n",
      "##################### NA #####################\n",
      "Invoice             0\n",
      "StockCode           0\n",
      "Description      1454\n",
      "Quantity            0\n",
      "InvoiceDate         0\n",
      "Price               0\n",
      "Customer ID    135080\n",
      "Country             0\n",
      "dtype: int64\n",
      "##################### Quantiles #####################\n",
      "                 0.00000     0.05000     0.50000     0.95000     0.99000     1.00000\n",
      "Quantity    -80995.00000     1.00000     3.00000    29.00000   100.00000 80995.00000\n",
      "Price       -11062.06000     0.42000     2.08000     9.95000    18.00000 38970.00000\n",
      "Customer ID  12346.00000 12626.00000 15152.00000 17905.00000 18212.00000 18287.00000\n"
     ]
    }
   ],
   "source": [
    "check_df(df)"
   ]
  },
  {
   "cell_type": "markdown",
   "id": "d275edf3-bcc3-4104-b516-b556c7b5ec37",
   "metadata": {},
   "source": [
    "Verimiz 541910 satır 8 değişkenden oluşuyor. \n",
    "2 farklı sayısal değişken var gibi duruyor bunlar: UnitPrice,Quantity diğer sayısal gözüken değişkenlerin bir sayısal \n",
    "olarak bilgi taşımıyor sadece eşsiz değer mesela \"Customer ID\" gibi float gözüküyor ama sayısal olarak bir anlamı yok.\n",
    "\n",
    "eşsiz değişkenler ise InvoiceNo,StockCode,CustomerID gibi duruyor.\n",
    "birde tarih değişkeni var o da \"InvoiceDate\"\n",
    "\n",
    "Eksik değişkenlerimiz var bunları şu anda işlediğimiz konu kapamına dahil etmediğimden şimdilik siliyorum.\n",
    "\n",
    "Quantity min değer -80995\n",
    "Price    min değer -11062\n",
    "Eksi değer alan verilerimiz var bunlardan kurtulacağız bu - değerler iade edilen ürünleri temsil ediyor."
   ]
  },
  {
   "cell_type": "code",
   "execution_count": 49,
   "id": "0309c7b8-98ab-4d8c-aafa-4b793f7c0928",
   "metadata": {},
   "outputs": [
    {
     "name": "stdout",
     "output_type": "stream",
     "text": [
      "Invoice        0\n",
      "StockCode      0\n",
      "Description    0\n",
      "Quantity       0\n",
      "InvoiceDate    0\n",
      "Price          0\n",
      "Customer ID    0\n",
      "Country        0\n",
      "dtype: int64\n"
     ]
    }
   ],
   "source": [
    "df.dropna(inplace=True)\n",
    "print(df.isnull().sum())"
   ]
  },
  {
   "cell_type": "markdown",
   "id": "21df71c3-eab8-499e-a080-da72d9751be7",
   "metadata": {},
   "source": [
    "### Eşsiz ürün sayısı kaçtır?"
   ]
  },
  {
   "cell_type": "code",
   "execution_count": 50,
   "id": "44784de5-f7a3-446f-8df8-e594e51d5751",
   "metadata": {},
   "outputs": [
    {
     "data": {
      "text/plain": [
       "3684"
      ]
     },
     "execution_count": 50,
     "metadata": {},
     "output_type": "execute_result"
    }
   ],
   "source": [
    "df = pd.DataFrame(df)\n",
    "df[\"StockCode\"].nunique()"
   ]
  },
  {
   "cell_type": "markdown",
   "id": "52ab0bea-2291-4c89-ac32-a6fa197d0556",
   "metadata": {},
   "source": [
    "### Hangi üründen kaçar tane vardır?"
   ]
  },
  {
   "cell_type": "code",
   "execution_count": 51,
   "id": "f898b9fa-d287-40d8-b62c-975c2727c7c8",
   "metadata": {},
   "outputs": [
    {
     "data": {
      "text/html": [
       "<div>\n",
       "<style scoped>\n",
       "    .dataframe tbody tr th:only-of-type {\n",
       "        vertical-align: middle;\n",
       "    }\n",
       "\n",
       "    .dataframe tbody tr th {\n",
       "        vertical-align: top;\n",
       "    }\n",
       "\n",
       "    .dataframe thead th {\n",
       "        text-align: right;\n",
       "    }\n",
       "</style>\n",
       "<table border=\"1\" class=\"dataframe\">\n",
       "  <thead>\n",
       "    <tr style=\"text-align: right;\">\n",
       "      <th></th>\n",
       "      <th>Quantity</th>\n",
       "    </tr>\n",
       "    <tr>\n",
       "      <th>Description</th>\n",
       "      <th></th>\n",
       "    </tr>\n",
       "  </thead>\n",
       "  <tbody>\n",
       "    <tr>\n",
       "      <th>4 PURPLE FLOCK DINNER CANDLES</th>\n",
       "      <td>140</td>\n",
       "    </tr>\n",
       "    <tr>\n",
       "      <th>50'S CHRISTMAS GIFT BAG LARGE</th>\n",
       "      <td>1883</td>\n",
       "    </tr>\n",
       "    <tr>\n",
       "      <th>DOLLY GIRL BEAKER</th>\n",
       "      <td>2391</td>\n",
       "    </tr>\n",
       "    <tr>\n",
       "      <th>I LOVE LONDON MINI BACKPACK</th>\n",
       "      <td>360</td>\n",
       "    </tr>\n",
       "    <tr>\n",
       "      <th>I LOVE LONDON MINI RUCKSACK</th>\n",
       "      <td>1</td>\n",
       "    </tr>\n",
       "    <tr>\n",
       "      <th>...</th>\n",
       "      <td>...</td>\n",
       "    </tr>\n",
       "    <tr>\n",
       "      <th>ZINC T-LIGHT HOLDER STARS SMALL</th>\n",
       "      <td>4850</td>\n",
       "    </tr>\n",
       "    <tr>\n",
       "      <th>ZINC TOP  2 DOOR WOODEN SHELF</th>\n",
       "      <td>5</td>\n",
       "    </tr>\n",
       "    <tr>\n",
       "      <th>ZINC WILLIE WINKIE  CANDLE STICK</th>\n",
       "      <td>2595</td>\n",
       "    </tr>\n",
       "    <tr>\n",
       "      <th>ZINC WIRE KITCHEN ORGANISER</th>\n",
       "      <td>25</td>\n",
       "    </tr>\n",
       "    <tr>\n",
       "      <th>ZINC WIRE SWEETHEART LETTER TRAY</th>\n",
       "      <td>80</td>\n",
       "    </tr>\n",
       "  </tbody>\n",
       "</table>\n",
       "<p>3896 rows × 1 columns</p>\n",
       "</div>"
      ],
      "text/plain": [
       "                                  Quantity\n",
       "Description                               \n",
       " 4 PURPLE FLOCK DINNER CANDLES         140\n",
       " 50'S CHRISTMAS GIFT BAG LARGE        1883\n",
       " DOLLY GIRL BEAKER                    2391\n",
       " I LOVE LONDON MINI BACKPACK           360\n",
       " I LOVE LONDON MINI RUCKSACK             1\n",
       "...                                    ...\n",
       "ZINC T-LIGHT HOLDER STARS SMALL       4850\n",
       "ZINC TOP  2 DOOR WOODEN SHELF            5\n",
       "ZINC WILLIE WINKIE  CANDLE STICK      2595\n",
       "ZINC WIRE KITCHEN ORGANISER             25\n",
       "ZINC WIRE SWEETHEART LETTER TRAY        80\n",
       "\n",
       "[3896 rows x 1 columns]"
      ]
     },
     "execution_count": 51,
     "metadata": {},
     "output_type": "execute_result"
    }
   ],
   "source": [
    "df[[\"Description\",\"Quantity\"]].groupby(\"Description\").agg(\"sum\")"
   ]
  },
  {
   "cell_type": "markdown",
   "id": "ddecff0d-0c53-47bb-a764-aab24fb2471a",
   "metadata": {},
   "source": [
    "### En çok sipariş edilen 5 ürünü çoktan aza doğru"
   ]
  },
  {
   "cell_type": "code",
   "execution_count": 53,
   "id": "f8a73594-210b-427d-a6db-ba03cbf4be17",
   "metadata": {},
   "outputs": [
    {
     "data": {
      "text/html": [
       "<div>\n",
       "<style scoped>\n",
       "    .dataframe tbody tr th:only-of-type {\n",
       "        vertical-align: middle;\n",
       "    }\n",
       "\n",
       "    .dataframe tbody tr th {\n",
       "        vertical-align: top;\n",
       "    }\n",
       "\n",
       "    .dataframe thead th {\n",
       "        text-align: right;\n",
       "    }\n",
       "</style>\n",
       "<table border=\"1\" class=\"dataframe\">\n",
       "  <thead>\n",
       "    <tr style=\"text-align: right;\">\n",
       "      <th></th>\n",
       "      <th>Quantity</th>\n",
       "    </tr>\n",
       "    <tr>\n",
       "      <th>Description</th>\n",
       "      <th></th>\n",
       "    </tr>\n",
       "  </thead>\n",
       "  <tbody>\n",
       "    <tr>\n",
       "      <th>WORLD WAR 2 GLIDERS ASSTD DESIGNS</th>\n",
       "      <td>53215</td>\n",
       "    </tr>\n",
       "    <tr>\n",
       "      <th>JUMBO BAG RED RETROSPOT</th>\n",
       "      <td>45066</td>\n",
       "    </tr>\n",
       "    <tr>\n",
       "      <th>ASSORTED COLOUR BIRD ORNAMENT</th>\n",
       "      <td>35314</td>\n",
       "    </tr>\n",
       "    <tr>\n",
       "      <th>WHITE HANGING HEART T-LIGHT HOLDER</th>\n",
       "      <td>34147</td>\n",
       "    </tr>\n",
       "    <tr>\n",
       "      <th>PACK OF 72 RETROSPOT CAKE CASES</th>\n",
       "      <td>33409</td>\n",
       "    </tr>\n",
       "  </tbody>\n",
       "</table>\n",
       "</div>"
      ],
      "text/plain": [
       "                                    Quantity\n",
       "Description                                 \n",
       "WORLD WAR 2 GLIDERS ASSTD DESIGNS      53215\n",
       "JUMBO BAG RED RETROSPOT                45066\n",
       "ASSORTED COLOUR BIRD ORNAMENT          35314\n",
       "WHITE HANGING HEART T-LIGHT HOLDER     34147\n",
       "PACK OF 72 RETROSPOT CAKE CASES        33409"
      ]
     },
     "execution_count": 53,
     "metadata": {},
     "output_type": "execute_result"
    }
   ],
   "source": [
    "df[[\"Description\",\"Quantity\"]].groupby(\"Description\").agg(\"sum\").sort_values(\"Quantity\", ascending=False).head(5)"
   ]
  },
  {
   "cell_type": "markdown",
   "id": "d8a8df8f-b71f-4cb1-9986-d1ac0376f06e",
   "metadata": {},
   "source": [
    "### Faturalardaki ‘C’ iptal edilen işlemleri göstermektedir. İptal edilen işlemleri veri setinden çıkartalım."
   ]
  },
  {
   "cell_type": "code",
   "execution_count": 54,
   "id": "7643b3d7-a235-4178-a657-d48b484e234f",
   "metadata": {},
   "outputs": [],
   "source": [
    "df = df[~df[\"Invoice\"].str.contains(\"C\", na=False)]\n",
    "df[\"TotalPrice\"] = df[\"Quantity\"] * df[\"Price\"]"
   ]
  },
  {
   "cell_type": "markdown",
   "id": "17f1de9b-c5d6-42e7-85e1-e71f90ac2a34",
   "metadata": {
    "tags": []
   },
   "source": [
    "### Recency (yenilik): Müşterinin son satın almasından bugüne kadar geçen süre\n",
    "### Frequency (Sıklık): Toplam satın alma sayısı.\n",
    "### Monetary (Parasal Değer): Müşterinin yaptığı toplam harcama."
   ]
  },
  {
   "cell_type": "code",
   "execution_count": 56,
   "id": "42093e6a-39e7-4f32-9548-828e357cb256",
   "metadata": {},
   "outputs": [],
   "source": [
    "today_date = dt.datetime(2011, 12, 11)\n",
    "\n",
    "rfm = df.groupby('Customer ID').agg({'InvoiceDate': lambda date: (today_date - date.max()).days,\n",
    "                                     'Invoice': lambda num: num.nunique(),\n",
    "                                     'TotalPrice': lambda TotalPrice: TotalPrice.sum()})\n",
    "rfm.columns = [\"recency\",\"frequency\",\"monetary\"]\n",
    "rfm = rfm[rfm[\"monetary\"] > 0]"
   ]
  },
  {
   "cell_type": "code",
   "execution_count": 57,
   "id": "d97348c7-e15a-4930-ac1e-c9e787d7f74c",
   "metadata": {},
   "outputs": [],
   "source": [
    "rfm[\"recency_score\"] = pd.qcut(rfm['recency'], 5, labels=[5, 4, 3, 2, 1])\n",
    "\n",
    "rfm[\"frequency_score\"] = pd.qcut(rfm['frequency'].rank(method=\"first\"), 5, labels=[1, 2, 3, 4, 5])\n",
    "\n",
    "rfm[\"monetary_score\"] = pd.qcut(rfm['monetary'], 5, labels=[1, 2, 3, 4, 5])\n",
    "\n",
    "rfm[\"RFM_SCORE\"] = (rfm['recency_score'].astype(str) +\n",
    "                    rfm['frequency_score'].astype(str))"
   ]
  },
  {
   "cell_type": "code",
   "execution_count": 58,
   "id": "2e4f3e94-00ab-477a-9c8d-e1c67762cf4d",
   "metadata": {},
   "outputs": [],
   "source": [
    "seg_map = {\n",
    "    r'[1-2][1-2]': 'hibernating',\n",
    "    r'[1-2][3-4]': 'at_Risk',\n",
    "    r'[1-2]5': 'cant_loose',\n",
    "    r'3[1-2]': 'about_to_sleep',\n",
    "    r'33': 'need_attention',\n",
    "    r'[3-4][4-5]': 'loyal_customers',\n",
    "    r'41': 'promising',\n",
    "    r'51': 'new_customers',\n",
    "    r'[4-5][2-3]': 'potential_loyalists',\n",
    "    r'5[4-5]': 'champions'\n",
    "}"
   ]
  },
  {
   "cell_type": "code",
   "execution_count": 59,
   "id": "7fe8ea59-1ddf-4de0-b805-5209996f72bd",
   "metadata": {},
   "outputs": [
    {
     "data": {
      "text/html": [
       "<div>\n",
       "<style scoped>\n",
       "    .dataframe tbody tr th:only-of-type {\n",
       "        vertical-align: middle;\n",
       "    }\n",
       "\n",
       "    .dataframe tbody tr th {\n",
       "        vertical-align: top;\n",
       "    }\n",
       "\n",
       "    .dataframe thead th {\n",
       "        text-align: right;\n",
       "    }\n",
       "</style>\n",
       "<table border=\"1\" class=\"dataframe\">\n",
       "  <thead>\n",
       "    <tr style=\"text-align: right;\">\n",
       "      <th></th>\n",
       "      <th>recency</th>\n",
       "      <th>frequency</th>\n",
       "      <th>monetary</th>\n",
       "      <th>recency_score</th>\n",
       "      <th>frequency_score</th>\n",
       "      <th>monetary_score</th>\n",
       "      <th>RFM_SCORE</th>\n",
       "      <th>segment</th>\n",
       "    </tr>\n",
       "    <tr>\n",
       "      <th>Customer ID</th>\n",
       "      <th></th>\n",
       "      <th></th>\n",
       "      <th></th>\n",
       "      <th></th>\n",
       "      <th></th>\n",
       "      <th></th>\n",
       "      <th></th>\n",
       "      <th></th>\n",
       "    </tr>\n",
       "  </thead>\n",
       "  <tbody>\n",
       "    <tr>\n",
       "      <th>12346.00000</th>\n",
       "      <td>326</td>\n",
       "      <td>1</td>\n",
       "      <td>77183.60000</td>\n",
       "      <td>1</td>\n",
       "      <td>1</td>\n",
       "      <td>5</td>\n",
       "      <td>11</td>\n",
       "      <td>hibernating</td>\n",
       "    </tr>\n",
       "    <tr>\n",
       "      <th>12347.00000</th>\n",
       "      <td>3</td>\n",
       "      <td>7</td>\n",
       "      <td>4310.00000</td>\n",
       "      <td>5</td>\n",
       "      <td>5</td>\n",
       "      <td>5</td>\n",
       "      <td>55</td>\n",
       "      <td>champions</td>\n",
       "    </tr>\n",
       "    <tr>\n",
       "      <th>12348.00000</th>\n",
       "      <td>76</td>\n",
       "      <td>4</td>\n",
       "      <td>1797.24000</td>\n",
       "      <td>2</td>\n",
       "      <td>4</td>\n",
       "      <td>4</td>\n",
       "      <td>24</td>\n",
       "      <td>at_Risk</td>\n",
       "    </tr>\n",
       "    <tr>\n",
       "      <th>12349.00000</th>\n",
       "      <td>19</td>\n",
       "      <td>1</td>\n",
       "      <td>1757.55000</td>\n",
       "      <td>4</td>\n",
       "      <td>1</td>\n",
       "      <td>4</td>\n",
       "      <td>41</td>\n",
       "      <td>promising</td>\n",
       "    </tr>\n",
       "    <tr>\n",
       "      <th>12350.00000</th>\n",
       "      <td>311</td>\n",
       "      <td>1</td>\n",
       "      <td>334.40000</td>\n",
       "      <td>1</td>\n",
       "      <td>1</td>\n",
       "      <td>2</td>\n",
       "      <td>11</td>\n",
       "      <td>hibernating</td>\n",
       "    </tr>\n",
       "  </tbody>\n",
       "</table>\n",
       "</div>"
      ],
      "text/plain": [
       "             recency  frequency    monetary recency_score frequency_score monetary_score RFM_SCORE      segment\n",
       "Customer ID                                                                                                    \n",
       "12346.00000      326          1 77183.60000             1               1              5        11  hibernating\n",
       "12347.00000        3          7  4310.00000             5               5              5        55    champions\n",
       "12348.00000       76          4  1797.24000             2               4              4        24      at_Risk\n",
       "12349.00000       19          1  1757.55000             4               1              4        41    promising\n",
       "12350.00000      311          1   334.40000             1               1              2        11  hibernating"
      ]
     },
     "execution_count": 59,
     "metadata": {},
     "output_type": "execute_result"
    }
   ],
   "source": [
    "rfm['segment'] = rfm['RFM_SCORE'].replace(seg_map, regex=True)\n",
    "rfm.head()"
   ]
  },
  {
   "cell_type": "code",
   "execution_count": 60,
   "id": "55872275-74c3-4906-bea5-906637858b2d",
   "metadata": {},
   "outputs": [
    {
     "data": {
      "text/html": [
       "<div>\n",
       "<style scoped>\n",
       "    .dataframe tbody tr th:only-of-type {\n",
       "        vertical-align: middle;\n",
       "    }\n",
       "\n",
       "    .dataframe tbody tr th {\n",
       "        vertical-align: top;\n",
       "    }\n",
       "\n",
       "    .dataframe thead tr th {\n",
       "        text-align: left;\n",
       "    }\n",
       "\n",
       "    .dataframe thead tr:last-of-type th {\n",
       "        text-align: right;\n",
       "    }\n",
       "</style>\n",
       "<table border=\"1\" class=\"dataframe\">\n",
       "  <thead>\n",
       "    <tr>\n",
       "      <th></th>\n",
       "      <th colspan=\"2\" halign=\"left\">recency</th>\n",
       "      <th colspan=\"2\" halign=\"left\">frequency</th>\n",
       "      <th colspan=\"2\" halign=\"left\">monetary</th>\n",
       "    </tr>\n",
       "    <tr>\n",
       "      <th></th>\n",
       "      <th>mean</th>\n",
       "      <th>count</th>\n",
       "      <th>mean</th>\n",
       "      <th>count</th>\n",
       "      <th>mean</th>\n",
       "      <th>count</th>\n",
       "    </tr>\n",
       "    <tr>\n",
       "      <th>segment</th>\n",
       "      <th></th>\n",
       "      <th></th>\n",
       "      <th></th>\n",
       "      <th></th>\n",
       "      <th></th>\n",
       "      <th></th>\n",
       "    </tr>\n",
       "  </thead>\n",
       "  <tbody>\n",
       "    <tr>\n",
       "      <th>about_to_sleep</th>\n",
       "      <td>53.31250</td>\n",
       "      <td>352</td>\n",
       "      <td>1.16193</td>\n",
       "      <td>352</td>\n",
       "      <td>471.99437</td>\n",
       "      <td>352</td>\n",
       "    </tr>\n",
       "    <tr>\n",
       "      <th>at_Risk</th>\n",
       "      <td>153.78583</td>\n",
       "      <td>593</td>\n",
       "      <td>2.87858</td>\n",
       "      <td>593</td>\n",
       "      <td>1084.53530</td>\n",
       "      <td>593</td>\n",
       "    </tr>\n",
       "    <tr>\n",
       "      <th>cant_loose</th>\n",
       "      <td>132.96825</td>\n",
       "      <td>63</td>\n",
       "      <td>8.38095</td>\n",
       "      <td>63</td>\n",
       "      <td>2796.15587</td>\n",
       "      <td>63</td>\n",
       "    </tr>\n",
       "    <tr>\n",
       "      <th>champions</th>\n",
       "      <td>6.36177</td>\n",
       "      <td>633</td>\n",
       "      <td>12.41706</td>\n",
       "      <td>633</td>\n",
       "      <td>6857.96392</td>\n",
       "      <td>633</td>\n",
       "    </tr>\n",
       "    <tr>\n",
       "      <th>hibernating</th>\n",
       "      <td>217.60504</td>\n",
       "      <td>1071</td>\n",
       "      <td>1.10177</td>\n",
       "      <td>1071</td>\n",
       "      <td>488.64331</td>\n",
       "      <td>1071</td>\n",
       "    </tr>\n",
       "    <tr>\n",
       "      <th>loyal_customers</th>\n",
       "      <td>33.60806</td>\n",
       "      <td>819</td>\n",
       "      <td>6.47985</td>\n",
       "      <td>819</td>\n",
       "      <td>2864.24779</td>\n",
       "      <td>819</td>\n",
       "    </tr>\n",
       "    <tr>\n",
       "      <th>need_attention</th>\n",
       "      <td>52.42781</td>\n",
       "      <td>187</td>\n",
       "      <td>2.32620</td>\n",
       "      <td>187</td>\n",
       "      <td>897.62786</td>\n",
       "      <td>187</td>\n",
       "    </tr>\n",
       "    <tr>\n",
       "      <th>new_customers</th>\n",
       "      <td>7.42857</td>\n",
       "      <td>42</td>\n",
       "      <td>1.00000</td>\n",
       "      <td>42</td>\n",
       "      <td>388.21286</td>\n",
       "      <td>42</td>\n",
       "    </tr>\n",
       "    <tr>\n",
       "      <th>potential_loyalists</th>\n",
       "      <td>17.39876</td>\n",
       "      <td>484</td>\n",
       "      <td>2.01033</td>\n",
       "      <td>484</td>\n",
       "      <td>1041.22200</td>\n",
       "      <td>484</td>\n",
       "    </tr>\n",
       "    <tr>\n",
       "      <th>promising</th>\n",
       "      <td>23.51064</td>\n",
       "      <td>94</td>\n",
       "      <td>1.00000</td>\n",
       "      <td>94</td>\n",
       "      <td>294.00798</td>\n",
       "      <td>94</td>\n",
       "    </tr>\n",
       "  </tbody>\n",
       "</table>\n",
       "</div>"
      ],
      "text/plain": [
       "                      recency       frequency         monetary      \n",
       "                         mean count      mean count       mean count\n",
       "segment                                                             \n",
       "about_to_sleep       53.31250   352   1.16193   352  471.99437   352\n",
       "at_Risk             153.78583   593   2.87858   593 1084.53530   593\n",
       "cant_loose          132.96825    63   8.38095    63 2796.15587    63\n",
       "champions             6.36177   633  12.41706   633 6857.96392   633\n",
       "hibernating         217.60504  1071   1.10177  1071  488.64331  1071\n",
       "loyal_customers      33.60806   819   6.47985   819 2864.24779   819\n",
       "need_attention       52.42781   187   2.32620   187  897.62786   187\n",
       "new_customers         7.42857    42   1.00000    42  388.21286    42\n",
       "potential_loyalists  17.39876   484   2.01033   484 1041.22200   484\n",
       "promising            23.51064    94   1.00000    94  294.00798    94"
      ]
     },
     "execution_count": 60,
     "metadata": {},
     "output_type": "execute_result"
    }
   ],
   "source": [
    "rfm[[\"segment\", \"recency\", \"frequency\", \"monetary\"]].groupby(\"segment\").agg([\"mean\", \"count\"])"
   ]
  },
  {
   "cell_type": "markdown",
   "id": "8e454ec0-e75f-4c5d-9aab-7e6df0325f81",
   "metadata": {},
   "source": [
    "champions:\n",
    "\n",
    "    RFM puanı 55\n",
    "    recency_score = 5 , frequency_score =5\n",
    "    * bu kullanıcılar en önemli kullanıcılarımız çünkü hem satın alma sıklıkları fazla hemde en son satın alma sureleri\n",
    "        az. Bu müşterilerimizi kaybetmemek amacı ile iş gücü biraz daha buraya odaklanıp müşteriye ilgi gösterilmeli.\n",
    "        \n",
    "cant_loose:\n",
    "\n",
    "    recency_score = 1,2 , frequency_score =5\n",
    "    *bu müşterilerimizin satın alma sayıları yüksek fakat en son satın alma süresi düşük. Bu müşterilerimizi kaybetmemek\n",
    "    için her müşteri özelinde bir inceleme olmalı. Belkide bu müşteriler aydan aya belli bir miktar alıp elindeki bitince\n",
    "    tekrar almak için dönüyor olabilir. bunları ayrıştırmamız gerek. ve eğer uzun süüredir bizimle çalışan bir müşteri ise\n",
    "    ona özel kampanya yapılabilinir.\n",
    "new_customers:\n",
    "\n",
    "    recency_score = 5 , frequency_score = 1\n",
    "    Bu kullanıcılar yeni geldiğinden onları burada tutan şeyin ne olacağını bulmak gerekir. ve bunlarada önem gösterilmesi\n",
    "    lazım. ona özel reklam mesajları atabilinir. kendini özel hissettirecel mail de atılabilinir. \n"
   ]
  },
  {
   "cell_type": "code",
   "execution_count": null,
   "id": "79075ad4-6d45-4a95-b9d6-c38a34607ccb",
   "metadata": {},
   "outputs": [],
   "source": []
  }
 ],
 "metadata": {
  "kernelspec": {
   "display_name": "Python 3 (ipykernel)",
   "language": "python",
   "name": "python3"
  },
  "language_info": {
   "codemirror_mode": {
    "name": "ipython",
    "version": 3
   },
   "file_extension": ".py",
   "mimetype": "text/x-python",
   "name": "python",
   "nbconvert_exporter": "python",
   "pygments_lexer": "ipython3",
   "version": "3.9.7"
  }
 },
 "nbformat": 4,
 "nbformat_minor": 5
}
